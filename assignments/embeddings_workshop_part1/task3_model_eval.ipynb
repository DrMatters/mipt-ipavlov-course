{
 "cells": [
  {
   "cell_type": "code",
   "execution_count": 2,
   "metadata": {},
   "outputs": [],
   "source": [
    "import torch"
   ]
  },
  {
   "cell_type": "code",
   "execution_count": 5,
   "metadata": {},
   "outputs": [
    {
     "data": {
      "text/plain": [
       "SkipGram(\n",
       "  (embedding_layer): Embedding(5000, 50)\n",
       "  (linear_layer): Linear(in_features=50, out_features=5000, bias=False)\n",
       "  (activation): LogSoftmax()\n",
       ")"
      ]
     },
     "execution_count": 5,
     "metadata": {},
     "output_type": "execute_result"
    }
   ],
   "source": [
    "trained_model = torch.load('./data/w2v(vocab-5000)(batch-50)(emb-50)(wind-5).pytorchmodel')\n",
    "trained_model"
   ]
  },
  {
   "cell_type": "code",
   "execution_count": 39,
   "metadata": {},
   "outputs": [],
   "source": [
    "def map_word2vec(token, center_matrix, context_matrix):\n",
    "    return center_matrix[token] + context_matrix[token]"
   ]
  },
  {
   "cell_type": "code",
   "execution_count": 40,
   "metadata": {
    "scrolled": true
   },
   "outputs": [
    {
     "data": {
      "text/plain": [
       "array([-0.22554925,  0.3600054 ,  0.85667646,  0.48124677,  0.32245073,\n",
       "        0.66619533,  0.41790175,  0.18080336,  0.29984596,  0.2829919 ,\n",
       "       -0.5375805 ,  0.04168852, -0.31444445, -0.46460533,  0.0802566 ,\n",
       "       -0.04501913, -0.44231763,  0.09346408, -0.0955719 , -0.00423799,\n",
       "       -0.1367093 ,  0.3695471 , -0.29027992,  0.17410146,  0.304141  ,\n",
       "        0.49093777, -0.03132365,  0.28405303, -0.3370881 , -0.10080548,\n",
       "       -0.2725573 , -0.47874936,  0.00855701, -0.1553351 ,  0.38422227,\n",
       "       -0.0953724 ,  0.89852947, -0.41652215, -0.20731907, -0.4050231 ,\n",
       "       -0.49944344,  0.04915349, -0.2225842 ,  0.42825997,  0.31355494,\n",
       "        0.12301695, -0.25802964, -0.1058663 , -0.00872341,  0.693937  ],\n",
       "      dtype=float32)"
      ]
     },
     "execution_count": 40,
     "metadata": {},
     "output_type": "execute_result"
    }
   ],
   "source": [
    "center_matrix = trained_model.embedding_layer.weight.data.numpy()\n",
    "context_matrix = trained_model.linear_layer.weight.data.numpy()\n",
    "\n",
    "map_word2vec(24, center_matrix, context_matrix)"
   ]
  },
  {
   "cell_type": "code",
   "execution_count": null,
   "metadata": {},
   "outputs": [],
   "source": []
  }
 ],
 "metadata": {
  "kernelspec": {
   "display_name": "Python 3",
   "language": "python",
   "name": "python3"
  },
  "language_info": {
   "codemirror_mode": {
    "name": "ipython",
    "version": 3
   },
   "file_extension": ".py",
   "mimetype": "text/x-python",
   "name": "python",
   "nbconvert_exporter": "python",
   "pygments_lexer": "ipython3",
   "version": "3.6.7"
  }
 },
 "nbformat": 4,
 "nbformat_minor": 2
}
