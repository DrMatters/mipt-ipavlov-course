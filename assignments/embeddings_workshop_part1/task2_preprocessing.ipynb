{
 "cells": [
  {
   "cell_type": "markdown",
   "metadata": {},
   "source": [
    "# Word2vec preprocessing"
   ]
  },
  {
   "cell_type": "markdown",
   "metadata": {},
   "source": [
    "Preprocessing is not the most exciting part of NLP, but it is still one of the most important ones. Your task is to preprocess raw text (you can use your own, or [this one](http://mattmahoney.net/dc/text8.zip). For this task text preprocessing mostly consists of:\n",
    "\n",
    "1. cleaning (mostly, if your dataset is from social media or parsed from the internet)\n",
    "1. tokenization\n",
    "1. building the vocabulary and choosing its size. Use only high-frequency words, change all other words to UNK or handle it in your own manner. You can use `collections.Counter` for that.\n",
    "1. assigning each token a number (numericalization). In other words, make word2index и index2word objects.\n",
    "1. data structuring and batching - make X and y matrices generator for word2vec (explained in more details below)\n",
    "\n",
    "**ATTN!:** If you use your own data, please, attach a download link. \n",
    "\n",
    "Your goal is to make SkipGramBatcher class which returns two numpy tensors with word indices. It should be possible to use one for word2vec training. You can implement batcher for Skip-Gram or CBOW architecture, the picture below can be helpful to remember the difference.\n",
    "\n",
    "![text](https://raw.githubusercontent.com/deepmipt/deep-nlp-seminars/651804899d05b96fc72b9474404fab330365ca09/seminar_02/pics/architecture.png)\n",
    "\n",
    "There are several ways to do it right. Shapes could be `x_batch.shape = (batch_size, 2*window_size)`, `y_batch.shape = (batch_size,)` for CBOW or `(batch_size,)`, `(batch_size,)` for Skip-Gram. You should **not** do negative sampling here.\n",
    "\n",
    "They should be adequately parametrized: CBOW(window_size, ...), SkipGram(window_size, ...). You should implement only one batcher in this task; and it's up to you which one to chose.\n",
    "\n",
    "Useful links:\n",
    "1. [Word2Vec Tutorial - The Skip-Gram Model](http://mccormickml.com/2016/04/19/word2vec-tutorial-the-skip-gram-model/)\n",
    "1. [Efficient Estimation of Word Representations in Vector Space](https://arxiv.org/pdf/1301.3781.pdf)\n",
    "1. [Distributed Representations of Words and Phrases and their Compositionality](http://papers.nips.cc/paper/5021-distributed-representations-of-words-and-phrases-and-their-compositionality.pdf)\n",
    "\n",
    "You can write the code in this notebook, or in a separate file. It can be reused for the next task. The result of your work should represent that your batch has a proper structure (right shapes) and content (words should be from one context, not some random indices). To show that, translate indices back to words and print them to show something like this:\n",
    "\n",
    "```\n",
    "text = ['first', 'used', 'against', 'early', 'working', 'class', 'radicals', 'including']\n",
    "\n",
    "window_size = 2\n",
    "\n",
    "# CBOW:\n",
    "indices_to_words(x_batch) = \\\n",
    "        [['first', 'used', 'early', 'working'],\n",
    "         ['used', 'against', 'working', 'class'],\n",
    "         ['against', 'early', 'class', 'radicals'],\n",
    "         ['early', 'working', 'radicals', 'including']]\n",
    "\n",
    "indices_to_words(labels_batch) = ['against', 'early', 'working', 'class']\n",
    "\n",
    "# Skip-Gram\n",
    "\n",
    "indices_to_words(x_batch) = ['against', 'early', 'working', 'class']\n",
    "\n",
    "indices_to_words(labels_batch) = ['used', 'working', 'early', 'radicals']]\n",
    "\n",
    "```\n",
    "\n",
    "If you struggle with something, ask your neighbor. If it is not obvious for you, probably someone else is looking for the answer too. And in contrast, if you see that you can help someone - do it! Good luck!"
   ]
  },
  {
   "cell_type": "code",
   "execution_count": 1,
   "metadata": {},
   "outputs": [],
   "source": [
    "from collections import Counter\n",
    "import gc\n",
    "import numpy as np\n",
    "from nltk.corpus import stopwords\n",
    "import nltk\n",
    "\n",
    "\n",
    "class SkipGramBatcher:\n",
    "    def __init__(self, corpus, vocab_size, window_size=3,\n",
    "                 batch_size=128, drop_stop_words=True,\n",
    "                 shuffle_batch=True, unk_text='<UNK>'):\n",
    "        self.window_size = window_size\n",
    "        self.vocab_size = vocab_size - 1\n",
    "        self.batch_size = batch_size\n",
    "        self.unk_text = unk_text\n",
    "        self.shuffle_batch = shuffle_batch\n",
    "\n",
    "        # drop stop words from corpus if it's needed\n",
    "        if drop_stop_words:\n",
    "            nltk.download('stopwords')\n",
    "            stop_words = set(stopwords.words('english'))\n",
    "            cleaned_corpus = [word for word in corpus if not word in stop_words]\n",
    "            corpus = cleaned_corpus\n",
    "\n",
    "        # Count all word occurrences and select vocab_size most common\n",
    "        self._counted_words = Counter(corpus).most_common(self.vocab_size)\n",
    "        # create mappings using dict comprehension\n",
    "        self._token_to_word = {idx: word for idx, (word, count) in enumerate(self._counted_words)}\n",
    "        self._word_to_token = {word: idx for idx, (word, count) in enumerate(self._counted_words)}\n",
    "\n",
    "        # append '<UNK>' token to dictionaries\n",
    "        last_token = len(self._token_to_word)\n",
    "        self._token_to_word[last_token] = self.unk_text\n",
    "        self._word_to_token[self.unk_text] = last_token\n",
    "        tokenized = self.words_to_tokens(corpus, error_on_unk=False)\n",
    "\n",
    "        # transform corpus from strings to tokens, to reduce memory usage\n",
    "        self._corpus_tokens = np.asarray(tokenized, dtype=np.int32)\n",
    "\n",
    "        # create shuffled sequence to make batch sampling random\n",
    "        self._batch_shuffled_sequence = np.arange(len(self._corpus_tokens))\n",
    "\n",
    "        # clean memory\n",
    "        corpus = []\n",
    "        gc.collect()\n",
    "\n",
    "    def words_to_tokens(self, words, error_on_unk=True):\n",
    "        \"\"\"Function to transform iterable of words into list of tokens\"\"\"\n",
    "\n",
    "        unk_index = self._word_to_token[self.unk_text]\n",
    "        idxes = [self._word_to_token.get(word, unk_index) for word in words]\n",
    "        if error_on_unk and unk_index in idxes:\n",
    "            raise IndexError(\"Some words are not present in the dictionary\")\n",
    "        return idxes\n",
    "\n",
    "    def tokens_to_words(self, tokens):\n",
    "        \"\"\"Function to transfrom iterable of tokens into list of words\"\"\"\n",
    "\n",
    "        words = [self._token_to_word[token] for token in tokens]\n",
    "        return words\n",
    "\n",
    "    def _get_random_positive_sample(self, center_pos):\n",
    "        \"\"\"Internal function to get a random sample within the selected window_size\"\"\"\n",
    "\n",
    "        left_window = np.arange(max(0, center_pos - self.window_size),\n",
    "                                center_pos)\n",
    "        right_window = np.arange(center_pos + 1,\n",
    "                                 min(center_pos + self.window_size + 1, len(self._corpus_tokens)))\n",
    "        window = np.concatenate((left_window, right_window))\n",
    "        position = np.random.choice(window)\n",
    "        return self._corpus_tokens[position]\n",
    "\n",
    "    def __iter__(self):\n",
    "        if self.shuffle_batch:\n",
    "            np.random.shuffle(self._batch_shuffled_sequence)\n",
    "        self.batch_start_pos = 0\n",
    "        return self\n",
    "\n",
    "    def __next__(self):\n",
    "        if self.batch_start_pos >= len(self._corpus_tokens):\n",
    "            raise StopIteration\n",
    "        else:\n",
    "            # get a list of shuffled numbers\n",
    "            batch_position_in_corpus = self._batch_shuffled_sequence[np.arange(\n",
    "                self.batch_start_pos,\n",
    "                min(self.batch_start_pos + self.batch_size, len(self._batch_shuffled_sequence))\n",
    "            )]\n",
    "            center_words_batch = np.asarray(self._corpus_tokens[batch_position_in_corpus])\n",
    "            # draw a word from window of a selected word\n",
    "            context_words_batch = np.asarray([self._get_random_positive_sample(selected_word_position)\n",
    "                                  for selected_word_position in batch_position_in_corpus]).flatten()\n",
    "            self.batch_start_pos += self.batch_size\n",
    "            return center_words_batch, context_words_batch"
   ]
  },
  {
   "cell_type": "code",
   "execution_count": 2,
   "metadata": {},
   "outputs": [],
   "source": [
    "# text = []\n",
    "# with open('./data/text8', 'r') as text8:\n",
    "#     text = text8.read().split()\n",
    "\n",
    "text = ['first', 'used', 'against', 'early', 'working', 'class', 'radicals', 'including', 'class', 'other']"
   ]
  },
  {
   "cell_type": "code",
   "execution_count": 14,
   "metadata": {},
   "outputs": [],
   "source": [
    "batcher = SkipGramBatcher(text, vocab_size=8, window_size=2, batch_size=3,\n",
    "                          drop_stop_words=False, shuffle_batch=False)"
   ]
  },
  {
   "cell_type": "markdown",
   "metadata": {},
   "source": [
    "* 7 stands for `<UNK>` here"
   ]
  },
  {
   "cell_type": "code",
   "execution_count": 15,
   "metadata": {},
   "outputs": [
    {
     "name": "stdout",
     "output_type": "stream",
     "text": [
      "[1 2 3] [3 3 1]\n",
      "[4 5 0] [3 0 5]\n",
      "[6 7 0] [0 7 7]\n",
      "[7] [7]\n"
     ]
    }
   ],
   "source": [
    "for center_batch, context_batch in batcher:\n",
    "    print(center_batch, context_batch)"
   ]
  },
  {
   "cell_type": "code",
   "execution_count": null,
   "metadata": {},
   "outputs": [],
   "source": []
  }
 ],
 "metadata": {
  "kernelspec": {
   "display_name": "Python 3",
   "language": "python",
   "name": "python3"
  },
  "language_info": {
   "codemirror_mode": {
    "name": "ipython",
    "version": 3
   },
   "file_extension": ".py",
   "mimetype": "text/x-python",
   "name": "python",
   "nbconvert_exporter": "python",
   "pygments_lexer": "ipython3",
   "version": "3.6.7"
  }
 },
 "nbformat": 4,
 "nbformat_minor": 2
}
