{
 "cells": [
  {
   "cell_type": "markdown",
   "metadata": {},
   "source": [
    "# Word2vec preprocessing"
   ]
  },
  {
   "cell_type": "markdown",
   "metadata": {},
   "source": [
    "Preprocessing is not the most exciting part of NLP, but it is still one of the most important ones. Your task is to preprocess raw text (you can use your own, or [this one](http://mattmahoney.net/dc/text8.zip). For this task text preprocessing mostly consists of:\n",
    "\n",
    "1. cleaning (mostly, if your dataset is from social media or parsed from the internet)\n",
    "1. tokenization\n",
    "1. building the vocabulary and choosing its size. Use only high-frequency words, change all other words to UNK or handle it in your own manner. You can use `collections.Counter` for that.\n",
    "1. assigning each token a number (numericalization). In other words, make word2index и index2word objects.\n",
    "1. data structuring and batching - make X and y matrices generator for word2vec (explained in more details below)\n",
    "\n",
    "**ATTN!:** If you use your own data, please, attach a download link. \n",
    "\n",
    "Your goal is to make SkipGramBatcher class which returns two numpy tensors with word indices. It should be possible to use one for word2vec training. You can implement batcher for Skip-Gram or CBOW architecture, the picture below can be helpful to remember the difference.\n",
    "\n",
    "![text](https://raw.githubusercontent.com/deepmipt/deep-nlp-seminars/651804899d05b96fc72b9474404fab330365ca09/seminar_02/pics/architecture.png)\n",
    "\n",
    "There are several ways to do it right. Shapes could be `x_batch.shape = (batch_size, 2*window_size)`, `y_batch.shape = (batch_size,)` for CBOW or `(batch_size,)`, `(batch_size,)` for Skip-Gram. You should **not** do negative sampling here.\n",
    "\n",
    "They should be adequately parametrized: CBOW(window_size, ...), SkipGram(window_size, ...). You should implement only one batcher in this task; and it's up to you which one to chose.\n",
    "\n",
    "Useful links:\n",
    "1. [Word2Vec Tutorial - The Skip-Gram Model](http://mccormickml.com/2016/04/19/word2vec-tutorial-the-skip-gram-model/)\n",
    "1. [Efficient Estimation of Word Representations in Vector Space](https://arxiv.org/pdf/1301.3781.pdf)\n",
    "1. [Distributed Representations of Words and Phrases and their Compositionality](http://papers.nips.cc/paper/5021-distributed-representations-of-words-and-phrases-and-their-compositionality.pdf)\n",
    "\n",
    "You can write the code in this notebook, or in a separate file. It can be reused for the next task. The result of your work should represent that your batch has a proper structure (right shapes) and content (words should be from one context, not some random indices). To show that, translate indices back to words and print them to show something like this:\n",
    "\n",
    "```\n",
    "text = ['first', 'used', 'against', 'early', 'working', 'class', 'radicals', 'including']\n",
    "\n",
    "window_size = 2\n",
    "\n",
    "# CBOW:\n",
    "indices_to_words(x_batch) = \\\n",
    "        [['first', 'used', 'early', 'working'],\n",
    "         ['used', 'against', 'working', 'class'],\n",
    "         ['against', 'early', 'class', 'radicals'],\n",
    "         ['early', 'working', 'radicals', 'including']]\n",
    "\n",
    "indices_to_words(labels_batch) = ['against', 'early', 'working', 'class']\n",
    "\n",
    "# Skip-Gram\n",
    "\n",
    "indices_to_words(x_batch) = ['against', 'early', 'working', 'class']\n",
    "\n",
    "indices_to_words(labels_batch) = ['used', 'working', 'early', 'radicals']]\n",
    "\n",
    "```\n",
    "\n",
    "If you struggle with something, ask your neighbor. If it is not obvious for you, probably someone else is looking for the answer too. And in contrast, if you see that you can help someone - do it! Good luck!"
   ]
  },
  {
   "cell_type": "code",
   "execution_count": 1,
   "metadata": {},
   "outputs": [],
   "source": [
    "from collections import Counter\n",
    "import numpy as np\n",
    "\n",
    "\n",
    "class SkipGramBatcher():\n",
    "    def __init__(self, corpus, window_size=2, batch_size=3, vocab_size=5000):\n",
    "        self.window_size = window_size\n",
    "        self.vocab_size = vocab_size\n",
    "        self.batch_size = batch_size\n",
    "        self.corpus = np.asarray(corpus, dtype=str)\n",
    "\n",
    "        # 1. Count all word occurencies.\n",
    "        counted_words = Counter(corpus).most_common(self.vocab_size)\n",
    "        # create dict using dict comprehension\n",
    "        self.idx_to_word = {idx: word for idx, (word, count) in enumerate(counted_words)}\n",
    "        self.word_to_idx = {word: idx for idx, (word, count) in enumerate(counted_words)}\n",
    "\n",
    "        # append '<UNK>' token to dictionaries\n",
    "        last_idx = len(self.idx_to_word)\n",
    "        self.idx_to_word[last_idx] = '<UNK>'\n",
    "        self.word_to_idx['<UNK>'] = self.idx_to_word\n",
    "\n",
    "    def words_to_indexes(self, words):\n",
    "        unk_index = self.word_to_idx['<UNK>']\n",
    "        idxes = [self.word_to_idx.get(word, unk_index) for word in words]\n",
    "        return idxes\n",
    "\n",
    "    def indexes_to_words(self, indexes):\n",
    "        words = [self.idx_to_word[index] for index in indexes]\n",
    "        return words\n",
    "\n",
    "    # iteration should return batch and labels\n",
    "    # https://stackoverflow.com/questions/19151/build-a-basic-python-iterator\n",
    "\n",
    "    # __iter__ should reset inner counter\n",
    "    def __iter__(self):\n",
    "        self.batch_start_pos = 0\n",
    "        return self\n",
    "\n",
    "    def get_random_sample(self, center_id):\n",
    "        left_window = np.arange(max(0, center_id - self.window_size),\n",
    "                                center_id)\n",
    "        right_window = np.arange(center_id + 1,\n",
    "                                 min(center_id + self.window_size + 1,len(self.corpus)))\n",
    "        window = np.concatenate((left_window, right_window))\n",
    "        position = np.random.choice(window)\n",
    "        return self.words_to_indexes([self.corpus[position]])\n",
    "\n",
    "    def __next__(self):\n",
    "        if self.batch_start_pos >= len(self.corpus):\n",
    "            raise StopIteration\n",
    "        else:\n",
    "            batch_position_in_corpus = np.arange(self.batch_start_pos,\n",
    "                                                 min(self.batch_start_pos + self.batch_size,\n",
    "                                                     len(self.corpus)))\n",
    "            x_batch = np.asarray(self.words_to_indexes(self.corpus[batch_position_in_corpus]))\n",
    "            # draw a word from window of a selected word\n",
    "            y_batch = np.asarray([self.get_random_sample(selected_word_position)\n",
    "                                  for selected_word_position in batch_position_in_corpus]).flatten()\n",
    "            # for selected_word_position in batch_position_in_corpus:\n",
    "            #     y_batch.append(self.get_random_sample(selected_word_position))\n",
    "            self.batch_start_pos += self.batch_size\n",
    "            return x_batch, y_batch\n"
   ]
  },
  {
   "cell_type": "code",
   "execution_count": 2,
   "metadata": {},
   "outputs": [],
   "source": [
    "# text = []\n",
    "# with open('./data/text8', 'r') as text8:\n",
    "#     text = text8.read().split()"
   ]
  },
  {
   "cell_type": "code",
   "execution_count": 3,
   "metadata": {},
   "outputs": [],
   "source": [
    "batcher = SkipGramBatcher(text, window_size=2)\n",
    "text = ['first', 'used', 'against', 'early', 'working', 'class', 'radicals', 'including', 'class', 'other']"
   ]
  },
  {
   "cell_type": "code",
   "execution_count": 4,
   "metadata": {},
   "outputs": [
    {
     "ename": "NameError",
     "evalue": "name 'a' is not defined",
     "output_type": "error",
     "traceback": [
      "\u001b[0;31m---------------------------------------------------------------------------\u001b[0m",
      "\u001b[0;31mNameError\u001b[0m                                 Traceback (most recent call last)",
      "\u001b[0;32m<ipython-input-4-30b6422debe7>\u001b[0m in \u001b[0;36m<module>\u001b[0;34m\u001b[0m\n\u001b[0;32m----> 1\u001b[0;31m \u001b[0;32mfor\u001b[0m \u001b[0midx\u001b[0m\u001b[0;34m,\u001b[0m \u001b[0;34m(\u001b[0m\u001b[0mx_batch\u001b[0m\u001b[0;34m,\u001b[0m \u001b[0my_batch\u001b[0m\u001b[0;34m)\u001b[0m \u001b[0;32min\u001b[0m \u001b[0menumerate\u001b[0m\u001b[0;34m(\u001b[0m\u001b[0ma\u001b[0m\u001b[0;34m)\u001b[0m\u001b[0;34m:\u001b[0m\u001b[0;34m\u001b[0m\u001b[0;34m\u001b[0m\u001b[0m\n\u001b[0m\u001b[1;32m      2\u001b[0m     \u001b[0;32mif\u001b[0m \u001b[0;34m(\u001b[0m\u001b[0midx\u001b[0m \u001b[0;34m%\u001b[0m \u001b[0;36m10000\u001b[0m\u001b[0;34m)\u001b[0m \u001b[0;34m==\u001b[0m \u001b[0;36m0\u001b[0m\u001b[0;34m:\u001b[0m\u001b[0;34m\u001b[0m\u001b[0;34m\u001b[0m\u001b[0m\n\u001b[1;32m      3\u001b[0m         \u001b[0mprint\u001b[0m\u001b[0;34m(\u001b[0m\u001b[0midx\u001b[0m\u001b[0;34m)\u001b[0m\u001b[0;34m\u001b[0m\u001b[0;34m\u001b[0m\u001b[0m\n",
      "\u001b[0;31mNameError\u001b[0m: name 'a' is not defined"
     ]
    }
   ],
   "source": [
    "for idx, (x_batch, y_batch) in enumerate(batcher):\n",
    "    if (idx % 10000) == 0:\n",
    "        print(idx)"
   ]
  },
  {
   "cell_type": "code",
   "execution_count": null,
   "metadata": {},
   "outputs": [],
   "source": []
  }
 ],
 "metadata": {
  "kernelspec": {
   "display_name": "Python 3",
   "language": "python",
   "name": "python3"
  },
  "language_info": {
   "codemirror_mode": {
    "name": "ipython",
    "version": 3
   },
   "file_extension": ".py",
   "mimetype": "text/x-python",
   "name": "python",
   "nbconvert_exporter": "python",
   "pygments_lexer": "ipython3",
   "version": "3.6.7"
  }
 },
 "nbformat": 4,
 "nbformat_minor": 2
}
